{
 "cells": [
  {
   "cell_type": "markdown",
   "metadata": {},
   "source": [
    "## KFServing Model Explainability\n",
    "\n",
    "Install the necessary libraries"
   ]
  },
  {
   "cell_type": "code",
   "execution_count": 1,
   "metadata": {},
   "outputs": [
    {
     "name": "stderr",
     "output_type": "stream",
     "text": [
      "Using TensorFlow backend.\n"
     ]
    }
   ],
   "source": [
    "import os\n",
    "import sys\n",
    "import requests\n",
    "import json\n",
    "from matplotlib import pyplot as plt\n",
    "import numpy as np\n",
    "from aix360.datasets import MNISTDataset\n",
    "from keras.applications import inception_v3 as inc_net\n",
    "from keras.preprocessing import image\n",
    "from keras.applications.imagenet_utils import decode_predictions\n",
    "import time\n",
    "from skimage.color import gray2rgb, rgb2gray, label2rgb # since the code wants color images"
   ]
  },
  {
   "cell_type": "markdown",
   "metadata": {},
   "source": [
    "Pick an image and wrap it to send to the inference service."
   ]
  },
  {
   "cell_type": "code",
   "execution_count": 2,
   "metadata": {},
   "outputs": [
    {
     "data": {
      "image/png": "[encoded data removed]",
      "text/plain": [
       "<Figure size 720x720 with 1 Axes>"
      ]
     },
     "metadata": {
      "needs_background": "light"
     },
     "output_type": "display_data"
    }
   ],
   "source": [
    "test_num = 1002\n",
    "endpoint = \"http://limeserver.drewbutlerbb4-cluster.sjc03.containers.appdomain.cloud/v1/models/limeserver:explain\"\n",
    "\n",
    "data = MNISTDataset()\n",
    "inputs = data.test_data[test_num]\n",
    "labels = data.test_labels[test_num]\n",
    "actual = 0\n",
    "for x in range(1, len(labels)):\n",
    "    if labels[x] != 0:\n",
    "        actual = x\n",
    "inputs = gray2rgb(inputs.reshape((-1, 28, 28)))\n",
    "inputs = np.reshape(inputs, (28,28,3))\n",
    "input_image = {\"instances\": [inputs.tolist()]}\n",
    "\n",
    "fig0 = (data.test_data[test_num][:,:,0] + 0.5)*255\n",
    "f, axarr = plt.subplots(1, 1, figsize=(10,10))\n",
    "axarr.set_title(\"Original Image\")\n",
    "axarr.imshow(fig0, cmap=\"gray\")\n",
    "plt.show()"
   ]
  },
  {
   "cell_type": "markdown",
   "metadata": {},
   "source": [
    "Send the image to the inference service."
   ]
  },
  {
   "cell_type": "code",
   "execution_count": 3,
   "metadata": {},
   "outputs": [
    {
     "name": "stdout",
     "output_type": "stream",
     "text": [
      "TIME TAKEN:  47.712029218673706\n",
      "<Response [200]>\n"
     ]
    }
   ],
   "source": [
    "x = time.time()\n",
    "res = requests.post(endpoint, json=input_image)\n",
    "\n",
    "print(\"TIME TAKEN: \", time.time() - x)\n",
    "print(res)"
   ]
  },
  {
   "cell_type": "markdown",
   "metadata": {},
   "source": [
    "Unwrap the response and display the explanations."
   ]
  },
  {
   "cell_type": "code",
   "execution_count": 4,
   "metadata": {},
   "outputs": [
    {
     "name": "stderr",
     "output_type": "stream",
     "text": [
      "/usr/local/lib/python3.7/site-packages/skimage/color/colorlabel.py:111: UserWarning: Negative intensities in `image` are not supported\n",
      "  bg_color, image_alpha)\n",
      "Clipping input data to the valid range for imshow with RGB data ([0..1] for floats or [0..255] for integers).\n",
      "Clipping input data to the valid range for imshow with RGB data ([0..1] for floats or [0..255] for integers).\n",
      "Clipping input data to the valid range for imshow with RGB data ([0..1] for floats or [0..255] for integers).\n",
      "Clipping input data to the valid range for imshow with RGB data ([0..1] for floats or [0..255] for integers).\n",
      "Clipping input data to the valid range for imshow with RGB data ([0..1] for floats or [0..255] for integers).\n",
      "Clipping input data to the valid range for imshow with RGB data ([0..1] for floats or [0..255] for integers).\n",
      "Clipping input data to the valid range for imshow with RGB data ([0..1] for floats or [0..255] for integers).\n",
      "Clipping input data to the valid range for imshow with RGB data ([0..1] for floats or [0..255] for integers).\n",
      "Clipping input data to the valid range for imshow with RGB data ([0..1] for floats or [0..255] for integers).\n",
      "Clipping input data to the valid range for imshow with RGB data ([0..1] for floats or [0..255] for integers).\n"
     ]
    },
    {
     "data": {
      "image/png": "[encoded data removed]",
      "text/plain": [
       "<Figure size 864x432 with 10 Axes>"
      ]
     },
     "metadata": {
      "needs_background": "light"
     },
     "output_type": "display_data"
    }
   ],
   "source": [
    "res_json = res.json()\n",
    "temp = np.array(res_json[\"explanations\"][\"temp\"])\n",
    "masks = np.array(res_json[\"explanations\"][\"masks\"])\n",
    "top_labels = np.array(res_json[\"explanations\"][\"top_labels\"])\n",
    "\n",
    "fig, m_axs = plt.subplots(2,5, figsize = (12,6))\n",
    "for i, c_ax in enumerate(m_axs.flatten()):\n",
    "    mask = masks[i]\n",
    "    c_ax.imshow(label2rgb(mask, temp, bg_label = 0), interpolation = 'nearest')\n",
    "    c_ax.set_title('Positive for {}\\nActual {}'.format(top_labels[i], actual))\n",
    "    c_ax.axis('off')\n",
    "plt.show()"
   ]
  }
 ],
 "metadata": {
  "kernelspec": {
   "display_name": "Python 3.7.4 64-bit",
   "language": "python",
   "name": "python37464biteac3a92cf4cf48d3b00e9c4589083555"
  },
  "language_info": {
   "codemirror_mode": {
    "name": "ipython",
    "version": 3
   },
   "file_extension": ".py",
   "mimetype": "text/x-python",
   "name": "python",
   "nbconvert_exporter": "python",
   "pygments_lexer": "ipython3",
   "version": "3.7.4"
  }
 },
 "nbformat": 4,
 "nbformat_minor": 2
}
